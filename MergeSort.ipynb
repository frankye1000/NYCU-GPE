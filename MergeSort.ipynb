{
 "cells": [
  {
   "cell_type": "code",
   "execution_count": 6,
   "metadata": {},
   "outputs": [],
   "source": [
    "Max = 1000000000\n",
    "def Merge(array,front,mid,end):\n",
    "    Leftsub = array[front:mid+1]\n",
    "    Rightsub = array[mid+1:end+1]\n",
    "    Leftsub.append(Max)\n",
    "    Rightsub.append(Max)\n",
    "\n",
    "    idxLeft=0\n",
    "    idxRight=0\n",
    "    for i in range(front,end+1):\n",
    "        if Leftsub[idxLeft]<=Rightsub[idxRight]:\n",
    "            array[i]=Leftsub[idxLeft]\n",
    "            idxLeft+=1\n",
    "        else:\n",
    "            array[i]=Rightsub[idxRight]\n",
    "            idxRight+=1\n",
    "\n",
    "def MergeSort(array,front,end):\n",
    "    if front<end:\n",
    "        mid = (front+end)//2\n",
    "        MergeSort(array,front,mid)\n",
    "        MergeSort(array,mid+1,end)\n",
    "        Merge(array,front,mid,end)"
   ]
  },
  {
   "cell_type": "code",
   "execution_count": 7,
   "metadata": {},
   "outputs": [
    {
     "name": "stdout",
     "output_type": "stream",
     "text": [
      "[1, 2, 3, 4, 5]\n"
     ]
    }
   ],
   "source": [
    "nums = [5,2,3,1,4]\n",
    "\n",
    "MergeSort(nums,0,len(nums)-1)\n",
    "print(nums)"
   ]
  },
  {
   "cell_type": "code",
   "execution_count": null,
   "metadata": {},
   "outputs": [],
   "source": []
  },
  {
   "cell_type": "code",
   "execution_count": null,
   "metadata": {},
   "outputs": [],
   "source": []
  }
 ],
 "metadata": {
  "kernelspec": {
   "display_name": "base",
   "language": "python",
   "name": "python3"
  },
  "language_info": {
   "codemirror_mode": {
    "name": "ipython",
    "version": 3
   },
   "file_extension": ".py",
   "mimetype": "text/x-python",
   "name": "python",
   "nbconvert_exporter": "python",
   "pygments_lexer": "ipython3",
   "version": "3.9.12"
  },
  "orig_nbformat": 4,
  "vscode": {
   "interpreter": {
    "hash": "58d5f6ba6611b56f2194299c765c8c9626cda9bf3872469af980364e7f312d15"
   }
  }
 },
 "nbformat": 4,
 "nbformat_minor": 2
}
